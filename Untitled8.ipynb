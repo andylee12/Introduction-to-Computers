{
  "nbformat": 4,
  "nbformat_minor": 0,
  "metadata": {
    "colab": {
      "provenance": [],
      "authorship_tag": "ABX9TyP7Er42ajznX93VYa9jncGE",
      "include_colab_link": true
    },
    "kernelspec": {
      "name": "python3",
      "display_name": "Python 3"
    },
    "language_info": {
      "name": "python"
    }
  },
  "cells": [
    {
      "cell_type": "markdown",
      "metadata": {
        "id": "view-in-github",
        "colab_type": "text"
      },
      "source": [
        "<a href=\"https://colab.research.google.com/github/andylee12/Introduction-to-Computers/blob/main/Untitled8.ipynb\" target=\"_parent\"><img src=\"https://colab.research.google.com/assets/colab-badge.svg\" alt=\"Open In Colab\"/></a>"
      ]
    },
    {
      "cell_type": "code",
      "execution_count": 5,
      "metadata": {
        "id": "m1zjeq21z_ao",
        "colab": {
          "base_uri": "https://localhost:8080/"
        },
        "outputId": "28e734b7-89c4-44fe-8433-0a61c636cb7d"
      },
      "outputs": [
        {
          "output_type": "execute_result",
          "data": {
            "text/plain": [
              "[1, 2, 3, 1, 2, 3, 1, 2, 3]"
            ]
          },
          "metadata": {},
          "execution_count": 5
        }
      ],
      "source": [
        "[1, 2, 3 ]*3\n"
      ]
    },
    {
      "cell_type": "code",
      "source": [
        "month = int(input())\n",
        "if (1 <= month <= 3):\n",
        "  print(str(month )+ \" is spring\")\n",
        "elif (4 <= month <= 6):\n",
        "  print(str(month) + \" is summer\")\n",
        "elif (7 <= month <= 9):\n",
        "  print(str(month )+ \" is autumn\")\n",
        "elif (10 <= month <= 12):\n",
        "  print(str(month) + \" is winter\")\n",
        "else:\n",
        "  print(\"Input Error\")\n"
      ],
      "metadata": {
        "colab": {
          "base_uri": "https://localhost:8080/"
        },
        "id": "Ap9anBje0Dbc",
        "outputId": "a2266bd4-cb56-41b2-a83f-14b86d29ef1b"
      },
      "execution_count": 36,
      "outputs": [
        {
          "output_type": "stream",
          "name": "stdout",
          "text": [
            "5\n",
            "5 is summer\n"
          ]
        }
      ]
    },
    {
      "cell_type": "code",
      "source": [
        "print(\"1, 2, 3, \" * 3)"
      ],
      "metadata": {
        "colab": {
          "base_uri": "https://localhost:8080/"
        },
        "id": "JkoOI49-B6c7",
        "outputId": "f2a68d10-0a05-4123-b6af-857e09984b2c"
      },
      "execution_count": 4,
      "outputs": [
        {
          "output_type": "stream",
          "name": "stdout",
          "text": [
            "1, 2, 3, 1, 2, 3, 1, 2, 3, \n"
          ]
        }
      ]
    },
    {
      "cell_type": "code",
      "source": [
        "print(\"1, 2, 3, \" * 3)"
      ],
      "metadata": {
        "colab": {
          "base_uri": "https://localhost:8080/"
        },
        "id": "oJ8d3oXe1PpH",
        "outputId": "7c50f0b2-655e-44a9-948b-25113ae279fa"
      },
      "execution_count": null,
      "outputs": [
        {
          "output_type": "stream",
          "name": "stdout",
          "text": [
            "1, 2, 3, 1, 2, 3, 1, 2, 3, \n"
          ]
        }
      ]
    },
    {
      "cell_type": "code",
      "source": [
        "a = 'abcdef'\n",
        "b = list(a)\n",
        "b.reverse()\n",
        "b = ''.join(b)\n",
        "print(b)"
      ],
      "metadata": {
        "colab": {
          "base_uri": "https://localhost:8080/"
        },
        "id": "I7-AMwfy4O0b",
        "outputId": "ede18dff-e950-4895-a5c6-00324ee96400"
      },
      "execution_count": null,
      "outputs": [
        {
          "output_type": "stream",
          "name": "stdout",
          "text": [
            "fedcba\n"
          ]
        }
      ]
    },
    {
      "cell_type": "code",
      "source": [
        "def sum():\n",
        "    sum = 0\n",
        "    for n in range(1,101):\n",
        "        sum = sum + n\n",
        "    return sum\n",
        "\n",
        "print(sum())"
      ],
      "metadata": {
        "colab": {
          "base_uri": "https://localhost:8080/"
        },
        "id": "iMzG63Do-1yn",
        "outputId": "2f681a17-b6d9-40d0-8da9-46afb50c1a60"
      },
      "execution_count": null,
      "outputs": [
        {
          "output_type": "stream",
          "name": "stdout",
          "text": [
            "5050\n"
          ]
        }
      ]
    },
    {
      "cell_type": "code",
      "source": [
        "km = int(input(\"km: \"))\n",
        "if km == 0:\n",
        "\tprint(\"price is 0 yuan\")\n",
        "elif 5 >= km >= 1:\n",
        "\tprint(\"price is 240 yuan\")\n",
        "elif km >= 5:\n",
        "\tprint((km - 5 * 40) + 240 + )\n",
        "else:\n",
        "  print('Input Error')"
      ],
      "metadata": {
        "colab": {
          "base_uri": "https://localhost:8080/"
        },
        "id": "wSIlhriiIOiw",
        "outputId": "c1a1f279-e22e-4b3e-f7eb-32440d36e460"
      },
      "execution_count": null,
      "outputs": [
        {
          "output_type": "stream",
          "name": "stdout",
          "text": [
            "km: 6\n",
            "46\n"
          ]
        }
      ]
    },
    {
      "cell_type": "code",
      "source": [
        "a =[\"bonny\",\"jack\",\"rose\"] \n",
        "a.reverse()\n",
        "for a in a : \n",
        "  print(a) \n",
        "\n"
      ],
      "metadata": {
        "colab": {
          "base_uri": "https://localhost:8080/"
        },
        "id": "ccSXmxdr59VO",
        "outputId": "220afc18-3b87-40fd-e769-101db1cf946c"
      },
      "execution_count": 6,
      "outputs": [
        {
          "output_type": "stream",
          "name": "stdout",
          "text": [
            "rose\n",
            "jack\n",
            "bonny\n"
          ]
        }
      ]
    },
    {
      "cell_type": "code",
      "source": [
        "num = int(input())\n",
        "if (num % 2 == 0):\n",
        "  print(str(num) + \" is odd\")\n",
        "else:\n",
        "  print(str(num) + \" is even\")"
      ],
      "metadata": {
        "colab": {
          "base_uri": "https://localhost:8080/"
        },
        "id": "CXiiAas4-2X8",
        "outputId": "554a9e1c-df83-4dd9-a16a-7218c6a44295"
      },
      "execution_count": 37,
      "outputs": [
        {
          "output_type": "stream",
          "name": "stdout",
          "text": [
            "5\n",
            "5 is even\n"
          ]
        }
      ]
    },
    {
      "cell_type": "code",
      "source": [
        "num = int(input())\n",
        "if (num % 2 == 0):\n",
        "\tprint(str(num) + \" is even\")\n",
        "elif (num % 2 == 1):\n",
        "\tprint(str(num) + \" is odd\")\n",
        "else:\n",
        "  print(\"Input Error\")"
      ],
      "metadata": {
        "colab": {
          "base_uri": "https://localhost:8080/"
        },
        "id": "b4OtDXXwQUg0",
        "outputId": "f44d246c-534c-4e46-b366-339dab1093cd"
      },
      "execution_count": 40,
      "outputs": [
        {
          "output_type": "stream",
          "name": "stdout",
          "text": [
            "10\n",
            "10 is even\n"
          ]
        }
      ]
    },
    {
      "cell_type": "code",
      "source": [
        "num = float(input())\n",
        "print(max(list(map(int, num.split()))))"
      ],
      "metadata": {
        "colab": {
          "base_uri": "https://localhost:8080/",
          "height": 202
        },
        "id": "VMfH8gmeRphT",
        "outputId": "b715223d-7ae8-4f5b-9902-e98fc82de30f"
      },
      "execution_count": 43,
      "outputs": [
        {
          "name": "stdout",
          "output_type": "stream",
          "text": [
            "10.3 30.9 20.8\n"
          ]
        },
        {
          "output_type": "error",
          "ename": "ValueError",
          "evalue": "ignored",
          "traceback": [
            "\u001b[0;31m---------------------------------------------------------------------------\u001b[0m",
            "\u001b[0;31mValueError\u001b[0m                                Traceback (most recent call last)",
            "\u001b[0;32m<ipython-input-43-1640d2e3a52e>\u001b[0m in \u001b[0;36m<cell line: 1>\u001b[0;34m()\u001b[0m\n\u001b[0;32m----> 1\u001b[0;31m \u001b[0mnum\u001b[0m \u001b[0;34m=\u001b[0m \u001b[0mfloat\u001b[0m\u001b[0;34m(\u001b[0m\u001b[0minput\u001b[0m\u001b[0;34m(\u001b[0m\u001b[0;34m)\u001b[0m\u001b[0;34m)\u001b[0m\u001b[0;34m\u001b[0m\u001b[0;34m\u001b[0m\u001b[0m\n\u001b[0m\u001b[1;32m      2\u001b[0m \u001b[0mprint\u001b[0m\u001b[0;34m(\u001b[0m\u001b[0mmax\u001b[0m\u001b[0;34m(\u001b[0m\u001b[0mlist\u001b[0m\u001b[0;34m(\u001b[0m\u001b[0mmap\u001b[0m\u001b[0;34m(\u001b[0m\u001b[0mint\u001b[0m\u001b[0;34m,\u001b[0m \u001b[0mnum\u001b[0m\u001b[0;34m.\u001b[0m\u001b[0msplit\u001b[0m\u001b[0;34m(\u001b[0m\u001b[0;34m)\u001b[0m\u001b[0;34m)\u001b[0m\u001b[0;34m)\u001b[0m\u001b[0;34m)\u001b[0m\u001b[0;34m)\u001b[0m\u001b[0;34m\u001b[0m\u001b[0;34m\u001b[0m\u001b[0m\n",
            "\u001b[0;31mValueError\u001b[0m: could not convert string to float: '10.3 30.9 20.8'"
          ]
        }
      ]
    },
    {
      "cell_type": "code",
      "source": [
        "my_func = input(\"輸入一個字: \")\n",
        "def my_func(st):\n",
        "\n",
        "    res = []\n",
        "    for index, c in enumerate(st):\n",
        "        if index % 2 == 0:\n",
        "            res.append(c.upper())\n",
        "        else:\n",
        "            res.append(c.lower())\n",
        "    return ''.join(res)\n",
        "print(my_func)"
      ],
      "metadata": {
        "colab": {
          "base_uri": "https://localhost:8080/"
        },
        "id": "Vt6mxKVvFeO5",
        "outputId": "707bacc9-6915-4e21-8b31-d553d4d7f096"
      },
      "execution_count": 30,
      "outputs": [
        {
          "output_type": "stream",
          "name": "stdout",
          "text": [
            "輸入一個字: abcd\n",
            "<function my_func at 0x7f93803805e0>\n"
          ]
        }
      ]
    },
    {
      "cell_type": "code",
      "source": [
        "side1=eval(input())\n",
        "side2=eval(input())\n",
        "side3=eval(input())\n",
        "\n",
        "if (side1+side2)>side3 and (side2+side3)>side1 and (side1+side3)>side2:\n",
        "    print(\"Valid\")\n",
        "else:\n",
        "    print('Invalid')"
      ],
      "metadata": {
        "colab": {
          "base_uri": "https://localhost:8080/"
        },
        "id": "XEgxrnySHV0i",
        "outputId": "2cdf19b7-0fa1-4b90-bbf7-c1d4e7edc1b5"
      },
      "execution_count": 57,
      "outputs": [
        {
          "output_type": "stream",
          "name": "stdout",
          "text": [
            "5\n",
            "2\n",
            "1\n",
            "Invalid\n"
          ]
        }
      ]
    },
    {
      "cell_type": "code",
      "source": [
        "side1=eval(input())\n",
        "side2=eval(input())\n",
        "side3=eval(input())\n",
        "a =[\"side1\" + \"side2\" + \"side3\"] \n",
        "a.reverse()\n",
        "print(a) \n"
      ],
      "metadata": {
        "colab": {
          "base_uri": "https://localhost:8080/",
          "height": 289
        },
        "id": "12EdQlprH5K5",
        "outputId": "126a4592-7e38-4653-b86b-813fcc29ec06"
      },
      "execution_count": 25,
      "outputs": [
        {
          "name": "stdout",
          "output_type": "stream",
          "text": [
            "a b c \n"
          ]
        },
        {
          "output_type": "error",
          "ename": "SyntaxError",
          "evalue": "ignored",
          "traceback": [
            "Traceback \u001b[0;36m(most recent call last)\u001b[0m:\n",
            "  File \u001b[1;32m\"/usr/local/lib/python3.10/dist-packages/IPython/core/interactiveshell.py\"\u001b[0m, line \u001b[1;32m3553\u001b[0m, in \u001b[1;35mrun_code\u001b[0m\n    exec(code_obj, self.user_global_ns, self.user_ns)\n",
            "\u001b[0;36m  File \u001b[0;32m\"<ipython-input-25-61607b6d1384>\"\u001b[0;36m, line \u001b[0;32m1\u001b[0;36m, in \u001b[0;35m<cell line: 1>\u001b[0;36m\u001b[0m\n\u001b[0;31m    side1=eval(input())\u001b[0m\n",
            "\u001b[0;36m  File \u001b[0;32m\"<string>\"\u001b[0;36m, line \u001b[0;32m1\u001b[0m\n\u001b[0;31m    a b c\u001b[0m\n\u001b[0m      ^\u001b[0m\n\u001b[0;31mSyntaxError\u001b[0m\u001b[0;31m:\u001b[0m invalid syntax\n"
          ]
        }
      ]
    },
    {
      "cell_type": "code",
      "source": [
        "list123 = list(map(int, input().split()))\n",
        "list123.reverse()\n",
        "print(list123)"
      ],
      "metadata": {
        "colab": {
          "base_uri": "https://localhost:8080/"
        },
        "id": "eDLYXNiJJbGS",
        "outputId": "1bc9b23b-1a91-4552-866f-077395472409"
      },
      "execution_count": 27,
      "outputs": [
        {
          "output_type": "stream",
          "name": "stdout",
          "text": [
            "1 2 3 \n",
            "[3, 2, 1]\n"
          ]
        }
      ]
    },
    {
      "cell_type": "code",
      "source": [
        "num = input(\"請輸入三個數: \")\n",
        "print(min(list(map(int, num.split()))))"
      ],
      "metadata": {
        "colab": {
          "base_uri": "https://localhost:8080/"
        },
        "id": "ViI971J2LI_p",
        "outputId": "4ecac8eb-2072-4110-eaaf-89f39a8bcc4b"
      },
      "execution_count": 34,
      "outputs": [
        {
          "output_type": "stream",
          "name": "stdout",
          "text": [
            "請輸入三個數: 6 2 5 \n",
            "2\n"
          ]
        }
      ]
    },
    {
      "cell_type": "code",
      "source": [
        "a = int(input())\n",
        "for i in range(1, a+1):\n",
        "  for j in range(1, i+1):\n",
        "    if (i == j):\n",
        "      print(j)\n",
        "    else:\n",
        "\t\t  print(j, end=\"\")"
      ],
      "metadata": {
        "colab": {
          "base_uri": "https://localhost:8080/",
          "height": 132
        },
        "id": "fHkKbLfITq6q",
        "outputId": "9797ca9a-beb9-471b-9047-c32485a101f7"
      },
      "execution_count": 47,
      "outputs": [
        {
          "output_type": "error",
          "ename": "TabError",
          "evalue": "ignored",
          "traceback": [
            "\u001b[0;36m  File \u001b[0;32m\"<ipython-input-47-0615749c91ed>\"\u001b[0;36m, line \u001b[0;32m7\u001b[0m\n\u001b[0;31m    print(j, end=\"\")\u001b[0m\n\u001b[0m    ^\u001b[0m\n\u001b[0;31mTabError\u001b[0m\u001b[0;31m:\u001b[0m inconsistent use of tabs and spaces in indentation\n"
          ]
        }
      ]
    },
    {
      "cell_type": "code",
      "source": [
        "list123 = list(map(int,input().split()))\n",
        "list123.reverse()\n",
        "print(list123)"
      ],
      "metadata": {
        "colab": {
          "base_uri": "https://localhost:8080/"
        },
        "id": "u3B7t2w0Wnp3",
        "outputId": "81b75158-b8a6-4abe-8fcf-994272cad783"
      },
      "execution_count": 53,
      "outputs": [
        {
          "output_type": "stream",
          "name": "stdout",
          "text": [
            " 5 6 7 \n",
            "[7, 6, 5]\n"
          ]
        }
      ]
    }
  ]
}