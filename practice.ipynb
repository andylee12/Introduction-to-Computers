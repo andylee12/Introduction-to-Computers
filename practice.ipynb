{
  "nbformat": 4,
  "nbformat_minor": 0,
  "metadata": {
    "colab": {
      "provenance": [],
      "authorship_tag": "ABX9TyNos4yE9WiVb4WQGkFX9x2B",
      "include_colab_link": true
    },
    "kernelspec": {
      "name": "python3",
      "display_name": "Python 3"
    },
    "language_info": {
      "name": "python"
    }
  },
  "cells": [
    {
      "cell_type": "markdown",
      "metadata": {
        "id": "view-in-github",
        "colab_type": "text"
      },
      "source": [
        "<a href=\"https://colab.research.google.com/github/andylee12/Introduction-to-Computers/blob/main/practice.ipynb\" target=\"_parent\"><img src=\"https://colab.research.google.com/assets/colab-badge.svg\" alt=\"Open In Colab\"/></a>"
      ]
    },
    {
      "cell_type": "code",
      "execution_count": 1,
      "metadata": {
        "colab": {
          "base_uri": "https://localhost:8080/"
        },
        "id": "bS5dd7-Ngb0L",
        "outputId": "b7dcbf51-9623-4604-8b76-119783ac0294"
      },
      "outputs": [
        {
          "output_type": "stream",
          "name": "stdout",
          "text": [
            "Hello\n"
          ]
        }
      ],
      "source": [
        "print(\"Hello\")"
      ]
    },
    {
      "cell_type": "code",
      "source": [
        "a = 456\n",
        "b = 798\n",
        "print(a + b)"
      ],
      "metadata": {
        "colab": {
          "base_uri": "https://localhost:8080/"
        },
        "id": "DXZZ3X1Ei0pG",
        "outputId": "81c80f95-0610-4195-cf54-cb09a26f31d0"
      },
      "execution_count": 2,
      "outputs": [
        {
          "output_type": "stream",
          "name": "stdout",
          "text": [
            "1254\n"
          ]
        }
      ]
    },
    {
      "cell_type": "code",
      "source": [
        "a = [1, 2, 3 ]\n",
        "b = a* 3 \n",
        "print(b)"
      ],
      "metadata": {
        "colab": {
          "base_uri": "https://localhost:8080/"
        },
        "id": "wkvZfhC0jFDu",
        "outputId": "1c6d8acf-484a-42c5-f804-7a766ef63509"
      },
      "execution_count": 3,
      "outputs": [
        {
          "output_type": "stream",
          "name": "stdout",
          "text": [
            "[1, 2, 3, 1, 2, 3, 1, 2, 3]\n"
          ]
        }
      ]
    },
    {
      "cell_type": "code",
      "source": [
        "a = [\"apple\", \"orange\", \"banana\"]\n",
        "a.reverse()\n",
        "for a in a : \n",
        "  print(a)\n"
      ],
      "metadata": {
        "colab": {
          "base_uri": "https://localhost:8080/"
        },
        "id": "Vq0X9nBpj5k_",
        "outputId": "08ae5d71-8a37-49ae-816a-241bf947e231"
      },
      "execution_count": 8,
      "outputs": [
        {
          "output_type": "stream",
          "name": "stdout",
          "text": [
            "banana\n",
            "orange\n",
            "apple\n"
          ]
        }
      ]
    },
    {
      "cell_type": "code",
      "source": [
        "def sum():\n",
        "  sum = 0\n",
        "  for n in range(1, 101):\n",
        "    sum = sum + n\n",
        "  return sum\n",
        "print(sum())"
      ],
      "metadata": {
        "colab": {
          "base_uri": "https://localhost:8080/"
        },
        "id": "cW_FQPlamBO-",
        "outputId": "96fc1291-1db3-4fa6-c4d5-208be1873dd9"
      },
      "execution_count": 9,
      "outputs": [
        {
          "output_type": "stream",
          "name": "stdout",
          "text": [
            "5050\n"
          ]
        }
      ]
    },
    {
      "cell_type": "code",
      "source": [
        "num = int(input())\n",
        "if (num % 2 == 0):\n",
        "  print(str(num) + \" is even\")\n",
        "elif (num % 2 == 1):\n",
        "  print(str(num) + \" is odd\")\n",
        "else:\n",
        "  print(\"input error\")"
      ],
      "metadata": {
        "colab": {
          "base_uri": "https://localhost:8080/"
        },
        "id": "dB4708j3mv-9",
        "outputId": "0c1b2d41-878f-41ac-ec1e-b50cd2e50b6e"
      },
      "execution_count": 11,
      "outputs": [
        {
          "output_type": "stream",
          "name": "stdout",
          "text": [
            "110\n",
            "110 is odd\n"
          ]
        }
      ]
    },
    {
      "cell_type": "code",
      "source": [
        "month = int(input())\n",
        "if 1 <= month <= 3:\n",
        "  print(str(month) + \" is spring\")\n",
        "elif 4 <= month <= 6:\n",
        "  print(str(month) + \" is summer\")\n",
        "elif 7 <= month <= 9:\n",
        "  print(str(month) + \" is autumn\")\n",
        "elif 10 <= month <= 12:\n",
        "  print(str(month) + \" is winter\")\n",
        "else:\n",
        "  print(\"input error\")\n"
      ],
      "metadata": {
        "colab": {
          "base_uri": "https://localhost:8080/"
        },
        "id": "iurJHB-HrpQN",
        "outputId": "635b4706-38fb-4ec1-dfe8-6df867b9fb87"
      },
      "execution_count": 15,
      "outputs": [
        {
          "output_type": "stream",
          "name": "stdout",
          "text": [
            "5\n",
            "5 is summer\n"
          ]
        }
      ]
    },
    {
      "cell_type": "code",
      "source": [
        "km = int(input())\n",
        "if 0 <= km <= 5:\n",
        "  print(\"240 yuan\")\n",
        "elif km >= 5:\n",
        "  price = (km - 5) * 40 + 240\n",
        "  print(str(price) + \" yuan\")\n",
        "else:\n",
        "  print(\"input error\")"
      ],
      "metadata": {
        "colab": {
          "base_uri": "https://localhost:8080/"
        },
        "id": "XLKyC1VBtTGE",
        "outputId": "b8e0d68a-a4de-41ff-f8b0-72796e048660"
      },
      "execution_count": 18,
      "outputs": [
        {
          "output_type": "stream",
          "name": "stdout",
          "text": [
            "10\n",
            "440 yuan\n"
          ]
        }
      ]
    },
    {
      "cell_type": "code",
      "source": [
        "year = int(input())\n",
        "n = 100000 * (1 + 0.03)**year\n",
        "print(n)"
      ],
      "metadata": {
        "colab": {
          "base_uri": "https://localhost:8080/"
        },
        "id": "BN84fQNovVMe",
        "outputId": "2354f7db-9eb2-4d69-8abb-1f46b870a3f8"
      },
      "execution_count": 19,
      "outputs": [
        {
          "output_type": "stream",
          "name": "stdout",
          "text": [
            "5\n",
            "115927.40743\n"
          ]
        }
      ]
    },
    {
      "cell_type": "code",
      "source": [
        "num = input()\n",
        "print(min(list(map(int, num.split()))))"
      ],
      "metadata": {
        "colab": {
          "base_uri": "https://localhost:8080/"
        },
        "id": "v1Dod8j7v-b9",
        "outputId": "22c9b033-afe5-4129-e7f8-9a82d4c4c6e5"
      },
      "execution_count": 21,
      "outputs": [
        {
          "output_type": "stream",
          "name": "stdout",
          "text": [
            "6 2 8\n",
            "2\n"
          ]
        }
      ]
    },
    {
      "cell_type": "code",
      "source": [
        "try: \n",
        "  while True:\n",
        "    n = int(input())\n",
        "    if (n <= 0):\n",
        "      break\n",
        "    else:\n",
        "      for i in range(1, n + 1):\n",
        "        if (n % i == 0):\n",
        "          print(i, end = \"\")\n",
        "    print(\"\")\n",
        "except:\n",
        "  pass\n"
      ],
      "metadata": {
        "colab": {
          "base_uri": "https://localhost:8080/"
        },
        "id": "ndoFxRvWw_sM",
        "outputId": "68432b7b-93ab-41b7-ccdc-e79988c6299c"
      },
      "execution_count": 24,
      "outputs": [
        {
          "name": "stdout",
          "output_type": "stream",
          "text": [
            "20\n",
            "12451020\n",
            "-5\n"
          ]
        }
      ]
    },
    {
      "cell_type": "code",
      "source": [
        "a = int(input())\n",
        "sum = 0\n",
        "for i in range(1, a):\n",
        "  if i % 3 == 0 or i % 7 == 0:\n",
        "    sum += i\n",
        "print(str(sum))\n",
        "\n"
      ],
      "metadata": {
        "colab": {
          "base_uri": "https://localhost:8080/"
        },
        "id": "-Jh50FWyyI5t",
        "outputId": "9467e567-28a5-44e1-c388-8fc12128b17f"
      },
      "execution_count": 27,
      "outputs": [
        {
          "output_type": "stream",
          "name": "stdout",
          "text": [
            "50\n",
            "541\n"
          ]
        }
      ]
    }
  ]
}